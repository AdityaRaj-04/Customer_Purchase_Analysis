{
 "cells": [
  {
   "cell_type": "code",
   "execution_count": 3,
   "id": "2235c78e-e69f-4c49-a3bd-3e4383234cb7",
   "metadata": {},
   "outputs": [
    {
     "name": "stdout",
     "output_type": "stream",
     "text": [
      "Collecting pandas\n",
      "  Downloading pandas-2.2.2-cp312-cp312-win_amd64.whl.metadata (19 kB)\n",
      "Requirement already satisfied: numpy>=1.26.0 in c:\\users\\hp\\appdata\\local\\programs\\python\\python312\\lib\\site-packages (from pandas) (2.0.0)\n",
      "Requirement already satisfied: python-dateutil>=2.8.2 in c:\\users\\hp\\appdata\\local\\programs\\python\\python312\\lib\\site-packages (from pandas) (2.9.0.post0)\n",
      "Collecting pytz>=2020.1 (from pandas)\n",
      "  Downloading pytz-2024.1-py2.py3-none-any.whl.metadata (22 kB)\n",
      "Collecting tzdata>=2022.7 (from pandas)\n",
      "  Downloading tzdata-2024.1-py2.py3-none-any.whl.metadata (1.4 kB)\n",
      "Requirement already satisfied: six>=1.5 in c:\\users\\hp\\appdata\\local\\programs\\python\\python312\\lib\\site-packages (from python-dateutil>=2.8.2->pandas) (1.16.0)\n",
      "Downloading pandas-2.2.2-cp312-cp312-win_amd64.whl (11.5 MB)\n",
      "   ---------------------------------------- 0.0/11.5 MB ? eta -:--:--\n",
      "   ---------------------------------------- 0.0/11.5 MB ? eta -:--:--\n",
      "   ---------------------------------------- 0.0/11.5 MB 393.8 kB/s eta 0:00:30\n",
      "   ---------------------------------------- 0.1/11.5 MB 819.2 kB/s eta 0:00:14\n",
      "    --------------------------------------- 0.2/11.5 MB 1.1 MB/s eta 0:00:10\n",
      "   - -------------------------------------- 0.4/11.5 MB 1.6 MB/s eta 0:00:07\n",
      "   -- ------------------------------------- 0.6/11.5 MB 2.4 MB/s eta 0:00:05\n",
      "   --- ------------------------------------ 1.1/11.5 MB 3.5 MB/s eta 0:00:03\n",
      "   ------ --------------------------------- 1.7/11.5 MB 4.8 MB/s eta 0:00:03\n",
      "   ------ --------------------------------- 2.0/11.5 MB 5.3 MB/s eta 0:00:02\n",
      "   ------ --------------------------------- 2.0/11.5 MB 5.3 MB/s eta 0:00:02\n",
      "   ------ --------------------------------- 2.0/11.5 MB 5.3 MB/s eta 0:00:02\n",
      "   ------ --------------------------------- 2.0/11.5 MB 5.3 MB/s eta 0:00:02\n",
      "   ---------- ----------------------------- 3.0/11.5 MB 5.1 MB/s eta 0:00:02\n",
      "   ---------- ----------------------------- 3.0/11.5 MB 5.1 MB/s eta 0:00:02\n",
      "   ------------- -------------------------- 3.8/11.5 MB 5.7 MB/s eta 0:00:02\n",
      "   ------------- -------------------------- 3.9/11.5 MB 5.5 MB/s eta 0:00:02\n",
      "   -------------- ------------------------- 4.2/11.5 MB 5.3 MB/s eta 0:00:02\n",
      "   --------------- ------------------------ 4.5/11.5 MB 5.6 MB/s eta 0:00:02\n",
      "   ----------------- ---------------------- 5.0/11.5 MB 5.7 MB/s eta 0:00:02\n",
      "   ------------------ --------------------- 5.3/11.5 MB 5.7 MB/s eta 0:00:02\n",
      "   -------------------- ------------------- 6.0/11.5 MB 6.2 MB/s eta 0:00:01\n",
      "   -------------------- ------------------- 6.0/11.5 MB 6.2 MB/s eta 0:00:01\n",
      "   -------------------- ------------------- 6.0/11.5 MB 6.2 MB/s eta 0:00:01\n",
      "   --------------------- ------------------ 6.2/11.5 MB 5.5 MB/s eta 0:00:01\n",
      "   ---------------------- ----------------- 6.6/11.5 MB 5.7 MB/s eta 0:00:01\n",
      "   ---------------------- ----------------- 6.6/11.5 MB 5.7 MB/s eta 0:00:01\n",
      "   -------------------------- ------------- 7.6/11.5 MB 6.1 MB/s eta 0:00:01\n",
      "   -------------------------- ------------- 7.6/11.5 MB 6.1 MB/s eta 0:00:01\n",
      "   -------------------------- ------------- 7.8/11.5 MB 5.8 MB/s eta 0:00:01\n",
      "   ---------------------------- ----------- 8.1/11.5 MB 5.8 MB/s eta 0:00:01\n",
      "   ---------------------------- ----------- 8.1/11.5 MB 5.8 MB/s eta 0:00:01\n",
      "   ----------------------------- ---------- 8.5/11.5 MB 5.8 MB/s eta 0:00:01\n",
      "   ------------------------------- -------- 9.0/11.5 MB 5.8 MB/s eta 0:00:01\n",
      "   -------------------------------- ------- 9.5/11.5 MB 6.0 MB/s eta 0:00:01\n",
      "   --------------------------------- ------ 9.6/11.5 MB 5.8 MB/s eta 0:00:01\n",
      "   ---------------------------------- ----- 10.0/11.5 MB 5.9 MB/s eta 0:00:01\n",
      "   ----------------------------------- ---- 10.2/11.5 MB 5.9 MB/s eta 0:00:01\n",
      "   ----------------------------------- ---- 10.3/11.5 MB 6.2 MB/s eta 0:00:01\n",
      "   ------------------------------------ --- 10.5/11.5 MB 6.2 MB/s eta 0:00:01\n",
      "   ------------------------------------- -- 10.7/11.5 MB 6.2 MB/s eta 0:00:01\n",
      "   ------------------------------------- -- 10.8/11.5 MB 6.1 MB/s eta 0:00:01\n",
      "   -------------------------------------- - 11.0/11.5 MB 6.0 MB/s eta 0:00:01\n",
      "   -------------------------------------- - 11.2/11.5 MB 6.0 MB/s eta 0:00:01\n",
      "   ---------------------------------------  11.4/11.5 MB 5.8 MB/s eta 0:00:01\n",
      "   ---------------------------------------  11.5/11.5 MB 5.8 MB/s eta 0:00:01\n",
      "   ---------------------------------------  11.5/11.5 MB 5.8 MB/s eta 0:00:01\n",
      "   ---------------------------------------  11.5/11.5 MB 5.8 MB/s eta 0:00:01\n",
      "   ---------------------------------------- 11.5/11.5 MB 5.3 MB/s eta 0:00:00\n",
      "Downloading pytz-2024.1-py2.py3-none-any.whl (505 kB)\n",
      "   ---------------------------------------- 0.0/505.5 kB ? eta -:--:--\n",
      "   ------------- -------------------------- 174.1/505.5 kB 5.3 MB/s eta 0:00:01\n",
      "   ---------------------------- ----------- 358.4/505.5 kB 4.5 MB/s eta 0:00:01\n",
      "   ---------------------------------------  501.8/505.5 kB 4.5 MB/s eta 0:00:01\n",
      "   ---------------------------------------- 505.5/505.5 kB 3.5 MB/s eta 0:00:00\n",
      "Downloading tzdata-2024.1-py2.py3-none-any.whl (345 kB)\n",
      "   ---------------------------------------- 0.0/345.4 kB ? eta -:--:--\n",
      "   ---------------------- ----------------- 194.6/345.4 kB 5.9 MB/s eta 0:00:01\n",
      "   ---------------------------------------  337.9/345.4 kB 5.2 MB/s eta 0:00:01\n",
      "   ---------------------------------------- 345.4/345.4 kB 3.6 MB/s eta 0:00:00\n",
      "Installing collected packages: pytz, tzdata, pandas\n",
      "Successfully installed pandas-2.2.2 pytz-2024.1 tzdata-2024.1\n"
     ]
    },
    {
     "name": "stderr",
     "output_type": "stream",
     "text": [
      "\n",
      "[notice] A new release of pip is available: 24.1.1 -> 24.1.2\n",
      "[notice] To update, run: python.exe -m pip install --upgrade pip\n"
     ]
    }
   ],
   "source": [
    "#INSTALL PANDAS\n",
    "!pip install pandas"
   ]
  },
  {
   "cell_type": "code",
   "execution_count": 13,
   "id": "779f8914-2ac5-4aa3-ae9b-1fd05d31e1b0",
   "metadata": {},
   "outputs": [
    {
     "name": "stdout",
     "output_type": "stream",
     "text": [
      "Collecting mysql-connector-python"
     ]
    },
    {
     "name": "stderr",
     "output_type": "stream",
     "text": [
      "\n",
      "[notice] A new release of pip is available: 24.1.1 -> 24.1.2\n",
      "[notice] To update, run: python.exe -m pip install --upgrade pip\n"
     ]
    },
    {
     "name": "stdout",
     "output_type": "stream",
     "text": [
      "\n",
      "  Downloading mysql_connector_python-9.0.0-cp312-cp312-win_amd64.whl.metadata (2.0 kB)\n",
      "Downloading mysql_connector_python-9.0.0-cp312-cp312-win_amd64.whl (14.3 MB)\n",
      "   ---------------------------------------- 0.0/14.3 MB ? eta -:--:--\n",
      "   ---------------------------------------- 0.0/14.3 MB 1.4 MB/s eta 0:00:11\n",
      "   ---------------------------------------- 0.0/14.3 MB 393.8 kB/s eta 0:00:37\n",
      "   ---------------------------------------- 0.1/14.3 MB 939.4 kB/s eta 0:00:16\n",
      "    --------------------------------------- 0.2/14.3 MB 1.1 MB/s eta 0:00:14\n",
      "    --------------------------------------- 0.2/14.3 MB 1.3 MB/s eta 0:00:12\n",
      "   - -------------------------------------- 0.5/14.3 MB 1.6 MB/s eta 0:00:09\n",
      "   - -------------------------------------- 0.6/14.3 MB 1.7 MB/s eta 0:00:08\n",
      "   -- ------------------------------------- 0.9/14.3 MB 2.4 MB/s eta 0:00:06\n",
      "   --- ------------------------------------ 1.1/14.3 MB 2.7 MB/s eta 0:00:05\n",
      "   ---- ----------------------------------- 1.5/14.3 MB 3.3 MB/s eta 0:00:04\n",
      "   ----- ---------------------------------- 2.0/14.3 MB 3.8 MB/s eta 0:00:04\n",
      "   ------ --------------------------------- 2.4/14.3 MB 4.2 MB/s eta 0:00:03\n",
      "   ------- -------------------------------- 2.8/14.3 MB 4.6 MB/s eta 0:00:03\n",
      "   -------- ------------------------------- 3.0/14.3 MB 4.7 MB/s eta 0:00:03\n",
      "   -------- ------------------------------- 3.0/14.3 MB 4.7 MB/s eta 0:00:03\n",
      "   -------- ------------------------------- 3.0/14.3 MB 4.7 MB/s eta 0:00:03\n",
      "   -------- ------------------------------- 3.1/14.3 MB 4.0 MB/s eta 0:00:03\n",
      "   -------- ------------------------------- 3.1/14.3 MB 4.0 MB/s eta 0:00:03\n",
      "   ---------- ----------------------------- 3.8/14.3 MB 4.2 MB/s eta 0:00:03\n",
      "   ---------- ----------------------------- 3.8/14.3 MB 4.2 MB/s eta 0:00:03\n",
      "   ----------- ---------------------------- 4.2/14.3 MB 4.2 MB/s eta 0:00:03\n",
      "   -------------- ------------------------- 5.3/14.3 MB 5.0 MB/s eta 0:00:02\n",
      "   --------------- ------------------------ 5.6/14.3 MB 5.1 MB/s eta 0:00:02\n",
      "   ----------------- ---------------------- 6.1/14.3 MB 5.3 MB/s eta 0:00:02\n",
      "   ----------------- ---------------------- 6.2/14.3 MB 5.4 MB/s eta 0:00:02\n",
      "   ----------------- ---------------------- 6.2/14.3 MB 5.4 MB/s eta 0:00:02\n",
      "   ------------------- -------------------- 6.9/14.3 MB 5.3 MB/s eta 0:00:02\n",
      "   ------------------- -------------------- 6.9/14.3 MB 5.3 MB/s eta 0:00:02\n",
      "   -------------------- ------------------- 7.3/14.3 MB 5.5 MB/s eta 0:00:02\n",
      "   -------------------- ------------------- 7.5/14.3 MB 5.3 MB/s eta 0:00:02\n",
      "   ---------------------- ----------------- 8.0/14.3 MB 5.4 MB/s eta 0:00:02\n",
      "   ----------------------- ---------------- 8.4/14.3 MB 5.5 MB/s eta 0:00:02\n",
      "   ----------------------- ---------------- 8.4/14.3 MB 5.5 MB/s eta 0:00:02\n",
      "   ------------------------ --------------- 8.6/14.3 MB 5.4 MB/s eta 0:00:02\n",
      "   ------------------------ --------------- 8.8/14.3 MB 5.2 MB/s eta 0:00:02\n",
      "   ------------------------ --------------- 8.9/14.3 MB 5.2 MB/s eta 0:00:02\n",
      "   ------------------------ --------------- 9.0/14.3 MB 5.1 MB/s eta 0:00:02\n",
      "   ------------------------- -------------- 9.1/14.3 MB 5.0 MB/s eta 0:00:02\n",
      "   ------------------------- -------------- 9.2/14.3 MB 5.0 MB/s eta 0:00:02\n",
      "   ------------------------- -------------- 9.3/14.3 MB 4.9 MB/s eta 0:00:02\n",
      "   -------------------------- ------------- 9.4/14.3 MB 4.8 MB/s eta 0:00:02\n",
      "   -------------------------- ------------- 9.6/14.3 MB 4.8 MB/s eta 0:00:02\n",
      "   --------------------------- ------------ 9.7/14.3 MB 4.7 MB/s eta 0:00:01\n",
      "   --------------------------- ------------ 9.8/14.3 MB 4.7 MB/s eta 0:00:01\n",
      "   --------------------------- ------------ 10.0/14.3 MB 4.6 MB/s eta 0:00:01\n",
      "   ---------------------------- ----------- 10.1/14.3 MB 4.6 MB/s eta 0:00:01\n",
      "   ---------------------------- ----------- 10.2/14.3 MB 4.6 MB/s eta 0:00:01\n",
      "   ---------------------------- ----------- 10.4/14.3 MB 4.8 MB/s eta 0:00:01\n",
      "   ----------------------------- ---------- 10.5/14.3 MB 4.7 MB/s eta 0:00:01\n",
      "   ----------------------------- ---------- 10.5/14.3 MB 4.7 MB/s eta 0:00:01\n",
      "   ----------------------------- ---------- 10.5/14.3 MB 4.7 MB/s eta 0:00:01\n",
      "   ----------------------------- ---------- 10.7/14.3 MB 4.7 MB/s eta 0:00:01\n",
      "   ------------------------------ --------- 10.8/14.3 MB 4.7 MB/s eta 0:00:01\n",
      "   ------------------------------ --------- 10.9/14.3 MB 4.6 MB/s eta 0:00:01\n",
      "   ------------------------------ --------- 11.0/14.3 MB 4.6 MB/s eta 0:00:01\n",
      "   ------------------------------- -------- 11.1/14.3 MB 4.5 MB/s eta 0:00:01\n",
      "   ------------------------------- -------- 11.3/14.3 MB 4.4 MB/s eta 0:00:01\n",
      "   ------------------------------- -------- 11.4/14.3 MB 4.4 MB/s eta 0:00:01\n",
      "   -------------------------------- ------- 11.6/14.3 MB 4.3 MB/s eta 0:00:01\n",
      "   -------------------------------- ------- 11.6/14.3 MB 4.3 MB/s eta 0:00:01\n",
      "   --------------------------------- ------ 11.8/14.3 MB 4.2 MB/s eta 0:00:01\n",
      "   --------------------------------- ------ 11.9/14.3 MB 4.1 MB/s eta 0:00:01\n",
      "   --------------------------------- ------ 12.1/14.3 MB 4.1 MB/s eta 0:00:01\n",
      "   ---------------------------------- ----- 12.2/14.3 MB 4.0 MB/s eta 0:00:01\n",
      "   ---------------------------------- ----- 12.4/14.3 MB 4.0 MB/s eta 0:00:01\n",
      "   ---------------------------------- ----- 12.5/14.3 MB 4.0 MB/s eta 0:00:01\n",
      "   ----------------------------------- ---- 12.7/14.3 MB 3.9 MB/s eta 0:00:01\n",
      "   ----------------------------------- ---- 12.8/14.3 MB 3.9 MB/s eta 0:00:01\n",
      "   ------------------------------------ --- 12.9/14.3 MB 3.8 MB/s eta 0:00:01\n",
      "   ------------------------------------ --- 13.1/14.3 MB 3.8 MB/s eta 0:00:01\n",
      "   ------------------------------------ --- 13.2/14.3 MB 3.7 MB/s eta 0:00:01\n",
      "   ------------------------------------- -- 13.4/14.3 MB 4.0 MB/s eta 0:00:01\n",
      "   ------------------------------------- -- 13.5/14.3 MB 3.9 MB/s eta 0:00:01\n",
      "   ------------------------------------- -- 13.6/14.3 MB 3.9 MB/s eta 0:00:01\n",
      "   -------------------------------------- - 13.7/14.3 MB 3.8 MB/s eta 0:00:01\n",
      "   -------------------------------------- - 13.9/14.3 MB 3.8 MB/s eta 0:00:01\n",
      "   ---------------------------------------  14.0/14.3 MB 3.7 MB/s eta 0:00:01\n",
      "   ---------------------------------------  14.2/14.3 MB 3.8 MB/s eta 0:00:01\n",
      "   ---------------------------------------  14.3/14.3 MB 3.7 MB/s eta 0:00:01\n",
      "   ---------------------------------------  14.3/14.3 MB 3.7 MB/s eta 0:00:01\n",
      "   ---------------------------------------- 14.3/14.3 MB 3.6 MB/s eta 0:00:00\n",
      "Installing collected packages: mysql-connector-python\n",
      "Successfully installed mysql-connector-python-9.0.0\n"
     ]
    }
   ],
   "source": [
    "!pip install mysql-connector-python"
   ]
  },
  {
   "cell_type": "code",
   "execution_count": 114,
   "id": "a9e038a0-1ef2-40dc-a381-3bb9c65aa2e4",
   "metadata": {},
   "outputs": [],
   "source": [
    "# IMPORT NECESSARY LIBRARIES\n",
    "import pandas as pd\n",
    "import mysql.connector"
   ]
  },
  {
   "cell_type": "code",
   "execution_count": 115,
   "id": "daf2b716-830c-4014-875a-c44416a559b8",
   "metadata": {},
   "outputs": [],
   "source": [
    "conn = mysql.connector.connect(host = \"localhost\",\n",
    "                               user = \"root\",\n",
    "                               password = \"root\",\n",
    "                               database = \"retails\")\n",
    "                               "
   ]
  },
  {
   "cell_type": "code",
   "execution_count": 116,
   "id": "b2a557b6-231d-49e7-8384-9ba18ba6e5e6",
   "metadata": {},
   "outputs": [],
   "source": [
    "#load data from customers table\n",
    "query = 'select * from customers'"
   ]
  },
  {
   "cell_type": "code",
   "execution_count": 117,
   "id": "9b269ace-b265-4d88-8e5f-fb1504f547ab",
   "metadata": {},
   "outputs": [
    {
     "name": "stdout",
     "output_type": "stream",
     "text": [
      "     customerid    firstname  lastname                      country\n",
      "0           101      Kenneth  Martinez                     Barbados\n",
      "1           102       Joseph  Anderson     Northern Mariana Islands\n",
      "2           103      Vincent  Reynolds       British Virgin Islands\n",
      "3           104  Christopher    Morris                    Guatemala\n",
      "4           105        Sarah      King  Falkland Islands (Malvinas)\n",
      "..          ...          ...       ...                          ...\n",
      "995        1096        Larry    Garcia                        Gabon\n",
      "996        1097      Anthony     Smith                  Philippines\n",
      "997        1098        Scott    Gordon                       Jersey\n",
      "998        1099      Barbara    Walker                     Slovenia\n",
      "999        1100     Patricia   Hawkins                     Portugal\n",
      "\n",
      "[1000 rows x 4 columns]\n"
     ]
    },
    {
     "name": "stderr",
     "output_type": "stream",
     "text": [
      "C:\\Users\\Hp\\AppData\\Local\\Temp\\ipykernel_3364\\1337165254.py:1: UserWarning: pandas only supports SQLAlchemy connectable (engine/connection) or database string URI or sqlite3 DBAPI2 connection. Other DBAPI2 objects are not tested. Please consider using SQLAlchemy.\n",
      "  df = pd.read_sql (query, conn)\n"
     ]
    }
   ],
   "source": [
    "df = pd.read_sql (query, conn)\n",
    "print (df)"
   ]
  },
  {
   "cell_type": "code",
   "execution_count": 118,
   "id": "40a661cc-994a-4649-98e0-7c8be4a5fcf4",
   "metadata": {},
   "outputs": [],
   "source": [
    "a = 'select * from purchase'"
   ]
  },
  {
   "cell_type": "code",
   "execution_count": 119,
   "id": "85af530e-3e97-45f3-b97b-0f68a04df5b7",
   "metadata": {},
   "outputs": [
    {
     "name": "stdout",
     "output_type": "stream",
     "text": [
      "     transactionid  customerid  productid  purchase_price purchase_date\n",
      "0                1         101        240          689.99    2024-03-01\n",
      "1                2         102        299           79.27    2024-01-26\n",
      "2                3         103        207          666.75    2024-05-13\n",
      "3                4         104        290          316.19    2023-09-21\n",
      "4                5         105        281          700.24    2024-01-25\n",
      "..             ...         ...        ...             ...           ...\n",
      "995            996        1096        253          796.67    2024-01-03\n",
      "996            997        1097        233          271.88    2023-11-11\n",
      "997            998        1098        208          594.69    2023-11-04\n",
      "998            999        1099        233          140.89    2023-11-05\n",
      "999           1000        1100        219          861.00    2024-05-22\n",
      "\n",
      "[1000 rows x 5 columns]\n"
     ]
    },
    {
     "name": "stderr",
     "output_type": "stream",
     "text": [
      "C:\\Users\\Hp\\AppData\\Local\\Temp\\ipykernel_3364\\3194772348.py:1: UserWarning: pandas only supports SQLAlchemy connectable (engine/connection) or database string URI or sqlite3 DBAPI2 connection. Other DBAPI2 objects are not tested. Please consider using SQLAlchemy.\n",
      "  db = pd. read_sql (a, conn)\n"
     ]
    }
   ],
   "source": [
    "db = pd. read_sql (a, conn)\n",
    "print (db)"
   ]
  },
  {
   "cell_type": "code",
   "execution_count": 72,
   "id": "80b253cb-a1fe-48e3-b4fb-8e951c167a0e",
   "metadata": {},
   "outputs": [
    {
     "name": "stdout",
     "output_type": "stream",
     "text": [
      "Columns in db: Index(['transactionid', 'customerid', 'productid', 'purchase_price',\n",
      "       'purchase_date'],\n",
      "      dtype='object')\n"
     ]
    }
   ],
   "source": [
    "print(\"Columns in db:\", db.columns)"
   ]
  },
  {
   "cell_type": "code",
   "execution_count": 73,
   "id": "4a922a76-4d2b-4018-be75-c9dd5af50baa",
   "metadata": {},
   "outputs": [],
   "source": [
    "# Check if 'PurchaseDate' is in the DataFrame\n",
    "if 'purchase_date' in db.columns:\n",
    "    # Ensure PurchaseDate is in datetime format\n",
    "    db['purchase_date'] = pd.to_datetime(db['purchase_date'])\n",
    "else:\n",
    "    print(\"Error: 'purchase_date' column not found in db\")"
   ]
  },
  {
   "cell_type": "code",
   "execution_count": 74,
   "id": "577eaf33-ea1a-4c41-a8e4-d330a3a3d3a3",
   "metadata": {},
   "outputs": [],
   "source": [
    "b = 'select * from products'"
   ]
  },
  {
   "cell_type": "code",
   "execution_count": 75,
   "id": "e9c41d49-9c22-4e5b-a645-ae250cea57f0",
   "metadata": {},
   "outputs": [
    {
     "name": "stdout",
     "output_type": "stream",
     "text": [
      "    productid     product_name product_Category  product_quantity\n",
      "0         200          Printer      Electronics                 2\n",
      "1         201     Coffee Maker  Home Appliances                 2\n",
      "2         202          Printer      Electronics                 3\n",
      "3         203       Television      Electronics                 4\n",
      "4         204       Smart Bulb      Electronics                 4\n",
      "..        ...              ...              ...               ...\n",
      "95        295       Headphones      Electronics                 1\n",
      "96        296  Air Conditioner  Home Appliances                 4\n",
      "97        297     Coffee Maker  Home Appliances                 3\n",
      "98        298   Vacuum Cleaner  Home Appliances                 4\n",
      "99        299           Camera      Electronics                 4\n",
      "\n",
      "[100 rows x 4 columns]\n"
     ]
    },
    {
     "name": "stderr",
     "output_type": "stream",
     "text": [
      "C:\\Users\\Hp\\AppData\\Local\\Temp\\ipykernel_3364\\3151939065.py:1: UserWarning: pandas only supports SQLAlchemy connectable (engine/connection) or database string URI or sqlite3 DBAPI2 connection. Other DBAPI2 objects are not tested. Please consider using SQLAlchemy.\n",
      "  aa = pd.read_sql (b, conn)\n"
     ]
    }
   ],
   "source": [
    "aa = pd.read_sql (b, conn)\n",
    "print(aa)"
   ]
  },
  {
   "cell_type": "code",
   "execution_count": 76,
   "id": "f0018a5e-3ab1-4818-9151-eb147b37fff2",
   "metadata": {},
   "outputs": [
    {
     "name": "stdout",
     "output_type": "stream",
     "text": [
      "314\n"
     ]
    }
   ],
   "source": [
    "# Calculate Total Purchases, Total Revenue, and Average Purchase Value\n",
    "# Calculate total purchases\n",
    "total_purchases = aa['product_quantity'].sum()\n",
    "print(total_purchases)"
   ]
  },
  {
   "cell_type": "code",
   "execution_count": 77,
   "id": "e20fb605-602c-4f56-a2d8-2bda117507cd",
   "metadata": {},
   "outputs": [
    {
     "name": "stdout",
     "output_type": "stream",
     "text": [
      "159253.93000000002\n"
     ]
    }
   ],
   "source": [
    "total_revenue = (db['purchase_price'] * aa['product_quantity']).sum()\n",
    "print(total_revenue)"
   ]
  },
  {
   "cell_type": "code",
   "execution_count": 78,
   "id": "d02f671d-3b54-410f-9dc6-1227b0def047",
   "metadata": {},
   "outputs": [
    {
     "name": "stdout",
     "output_type": "stream",
     "text": [
      "507.17812101910835\n"
     ]
    }
   ],
   "source": [
    "average_purchase_value = total_revenue / total_purchases\n",
    "print(average_purchase_value)"
   ]
  },
  {
   "cell_type": "code",
   "execution_count": 79,
   "id": "4353d7e5-d716-4e6c-bc97-b8358651c987",
   "metadata": {},
   "outputs": [
    {
     "name": "stdout",
     "output_type": "stream",
     "text": [
      "Total Purchases: 314\n",
      "Total Revenue: 159253.93000000002\n",
      "Average Purchase Value: 507.17812101910835\n"
     ]
    }
   ],
   "source": [
    "print(f\"Total Purchases: {total_purchases}\")\n",
    "print(f\"Total Revenue: {total_revenue}\")\n",
    "print(f\"Average Purchase Value: {average_purchase_value}\")"
   ]
  },
  {
   "cell_type": "code",
   "execution_count": 80,
   "id": "f19b596b-a6b8-49f2-af5d-cb8de506da5c",
   "metadata": {},
   "outputs": [
    {
     "name": "stdout",
     "output_type": "stream",
     "text": [
      "     transactionid  customerid  productid  purchase_price purchase_date\n",
      "0                1         101        240          689.99    2024-03-01\n",
      "1                2         102        299           79.27    2024-01-26\n",
      "2                3         103        207          666.75    2024-05-13\n",
      "3                4         104        290          316.19    2023-09-21\n",
      "4                5         105        281          700.24    2024-01-25\n",
      "..             ...         ...        ...             ...           ...\n",
      "995            996        1096        253          796.67    2024-01-03\n",
      "996            997        1097        233          271.88    2023-11-11\n",
      "997            998        1098        208          594.69    2023-11-04\n",
      "998            999        1099        233          140.89    2023-11-05\n",
      "999           1000        1100        219          861.00    2024-05-22\n",
      "\n",
      "[1000 rows x 5 columns]\n"
     ]
    }
   ],
   "source": [
    "print(db)"
   ]
  },
  {
   "cell_type": "code",
   "execution_count": 132,
   "id": "11abd606-571c-4a36-8d9d-0f60e740e859",
   "metadata": {},
   "outputs": [],
   "source": [
    "dz = pd.merge(db, aa, on='productid')"
   ]
  },
  {
   "cell_type": "code",
   "execution_count": 82,
   "id": "a9559167-4b5a-4e49-8505-9a6ce018b752",
   "metadata": {},
   "outputs": [],
   "source": [
    "top_customers = dz.groupby('customerid').agg({\n",
    "    'product_quantity': 'sum',\n",
    "    'purchase_price': lambda x: (x * dz.loc[x.index, 'product_quantity']).sum()\n",
    "}).rename(columns={'product_quantity': 'TotalQuantity', 'purchase_price': 'TotalRevenue'}).sort_values(by='TotalRevenue', ascending=False)"
   ]
  },
  {
   "cell_type": "code",
   "execution_count": 83,
   "id": "de7b9c31-1fee-4803-ae63-12c61e18783e",
   "metadata": {},
   "outputs": [
    {
     "name": "stdout",
     "output_type": "stream",
     "text": [
      "            TotalQuantity  TotalRevenue\n",
      "customerid                             \n",
      "798                     5       4947.55\n",
      "997                     5       4907.60\n",
      "565                     5       4840.55\n",
      "606                     5       4809.25\n",
      "1055                    5       4760.10\n",
      "...                   ...           ...\n",
      "522                     2         33.52\n",
      "890                     1         29.85\n",
      "706                     2         21.34\n",
      "327                     1         17.65\n",
      "388                     1         15.20\n",
      "\n",
      "[1000 rows x 2 columns]\n"
     ]
    }
   ],
   "source": [
    "print(top_customers)"
   ]
  },
  {
   "cell_type": "code",
   "execution_count": null,
   "id": "ba64e3ef-0be2-4783-9e2f-29ffd17ffbb3",
   "metadata": {},
   "outputs": [],
   "source": [
    "# Creating DataFrames\n",
    "da = pd.DataFrame(db)\n",
    "products = pd.DataFrame(aa)"
   ]
  },
  {
   "cell_type": "code",
   "execution_count": 140,
   "id": "d9c6d87e-1ead-48e4-805b-b5177d132826",
   "metadata": {},
   "outputs": [],
   "source": [
    "# Ensure 'PurchaseDate' is in datetime format in the purchase table\n",
    "da['purchase_date'] = pd.to_datetime(db['purchase_date'])"
   ]
  },
  {
   "cell_type": "code",
   "execution_count": 141,
   "id": "00ed6ce9-1404-492e-bd3d-37fe2eb20c6b",
   "metadata": {},
   "outputs": [],
   "source": [
    "# Merge the purchase and products tables on 'productid'\n",
    "merged_df = pd.merge(da, aa, on='productid')"
   ]
  },
  {
   "cell_type": "code",
   "execution_count": 142,
   "id": "f3659739-5f16-4ea2-a3ca-bf54906134b2",
   "metadata": {},
   "outputs": [],
   "source": [
    "# Set 'PurchaseDate' as the index\n",
    "merged_df.set_index('purchase_date', inplace=True)"
   ]
  },
  {
   "cell_type": "code",
   "execution_count": 143,
   "id": "efb7d846-5659-4ac4-88d3-846f3d2937d6",
   "metadata": {},
   "outputs": [
    {
     "name": "stderr",
     "output_type": "stream",
     "text": [
      "C:\\Users\\Hp\\AppData\\Local\\Temp\\ipykernel_3364\\2418398300.py:1: FutureWarning: 'M' is deprecated and will be removed in a future version, please use 'ME' instead.\n",
      "  monthly_trends = merged_df.resample('M').agg({\n"
     ]
    }
   ],
   "source": [
    "# Perform monthly trend analysis\n",
    "monthly_trends = merged_df.resample('M').agg({\n",
    "    'product_quantity': 'sum',\n",
    "    'purchase_price': lambda x: (x * merged_df.loc[x.index, 'product_quantity']).sum()\n",
    "}).rename(columns={'product_quantity': 'TotalQuantity', 'purchase_price': 'TotalRevenue'})\n"
   ]
  },
  {
   "cell_type": "code",
   "execution_count": 144,
   "id": "5df173de-aff5-46d9-b717-d8e49451e0ac",
   "metadata": {},
   "outputs": [
    {
     "name": "stdout",
     "output_type": "stream",
     "text": [
      "               TotalQuantity  TotalRevenue\n",
      "purchase_date                             \n",
      "2023-06-30                36     131207.22\n",
      "2023-07-31               286    2451924.16\n",
      "2023-08-31               242    1310502.06\n",
      "2023-09-30               304    3025901.95\n",
      "2023-10-31               238    2036176.19\n",
      "2023-11-30               312    2045746.30\n",
      "2023-12-31               300    3023146.46\n",
      "2024-01-31               313    2887690.61\n",
      "2024-02-29               266    2030816.02\n",
      "2024-03-31               216    1524414.96\n",
      "2024-04-30               204     965163.73\n",
      "2024-05-31               262    2409194.80\n",
      "2024-06-30               179     810051.78\n"
     ]
    }
   ],
   "source": [
    "# print the monthly trends\n",
    "print(monthly_trends)"
   ]
  },
  {
   "cell_type": "code",
   "execution_count": 147,
   "id": "f2156917-b47e-45e7-a791-bd3e6de5218f",
   "metadata": {},
   "outputs": [
    {
     "name": "stderr",
     "output_type": "stream",
     "text": [
      "C:\\Users\\Hp\\AppData\\Local\\Temp\\ipykernel_3364\\2120653620.py:2: FutureWarning: 'Q' is deprecated and will be removed in a future version, please use 'QE' instead.\n",
      "  quarterly_trends = merged_df.resample('Q').agg({\n"
     ]
    }
   ],
   "source": [
    "# Quarterly trend analysis\n",
    "quarterly_trends = merged_df.resample('Q').agg({\n",
    "    'product_quantity': 'sum',\n",
    "    'purchase_price': lambda x: (x * merged_df.loc[x.index, 'product_quantity']).sum()\n",
    "}).rename(columns={'product_quantity': 'TotalQuantity', 'purchase_price': 'TotalRevenue'})\n"
   ]
  },
  {
   "cell_type": "code",
   "execution_count": 149,
   "id": "009b6bb1-2e72-43c8-8df4-893c08211d97",
   "metadata": {},
   "outputs": [
    {
     "name": "stdout",
     "output_type": "stream",
     "text": [
      "               TotalQuantity  TotalRevenue\n",
      "purchase_date                             \n",
      "2023-06-30                36     131207.22\n",
      "2023-09-30               832    6788328.17\n",
      "2023-12-31               850    7105068.95\n",
      "2024-03-31               795    6442921.59\n",
      "2024-06-30               645    4184410.31\n"
     ]
    }
   ],
   "source": [
    "print(quarterly_trends)"
   ]
  },
  {
   "cell_type": "code",
   "execution_count": 150,
   "id": "2f05e4e7-40cf-4a89-82cf-52417697a48d",
   "metadata": {},
   "outputs": [
    {
     "name": "stderr",
     "output_type": "stream",
     "text": [
      "C:\\Users\\Hp\\AppData\\Local\\Temp\\ipykernel_3364\\1251082394.py:1: FutureWarning: 'Y' is deprecated and will be removed in a future version, please use 'YE' instead.\n",
      "  yearly_trends = merged_df.resample('Y').agg({\n"
     ]
    }
   ],
   "source": [
    "# Perform yearly trend analysis\n",
    "yearly_trends = merged_df.resample('Y').agg({\n",
    "    'product_quantity': 'sum',\n",
    "    'purchase_price': lambda x: (x * merged_df.loc[x.index, 'product_quantity']).sum()\n",
    "}).rename(columns={'product_quantity': 'TotalQuantity', 'purchase_price': 'TotalRevenue'})"
   ]
  },
  {
   "cell_type": "code",
   "execution_count": 151,
   "id": "dc857ab9-ff8f-4a0c-95a1-09e0ab8fa6d1",
   "metadata": {},
   "outputs": [
    {
     "name": "stdout",
     "output_type": "stream",
     "text": [
      "               TotalQuantity  TotalRevenue\n",
      "purchase_date                             \n",
      "2023-12-31              1718   14024604.34\n",
      "2024-12-31              1440   10627331.90\n"
     ]
    }
   ],
   "source": [
    "print(yearly_trends)"
   ]
  },
  {
   "cell_type": "code",
   "execution_count": null,
   "id": "88b599ca-428a-4df4-917a-d9d252ff7924",
   "metadata": {},
   "outputs": [],
   "source": []
  }
 ],
 "metadata": {
  "kernelspec": {
   "display_name": "Python 3 (ipykernel)",
   "language": "python",
   "name": "python3"
  },
  "language_info": {
   "codemirror_mode": {
    "name": "ipython",
    "version": 3
   },
   "file_extension": ".py",
   "mimetype": "text/x-python",
   "name": "python",
   "nbconvert_exporter": "python",
   "pygments_lexer": "ipython3",
   "version": "3.12.4"
  }
 },
 "nbformat": 4,
 "nbformat_minor": 5
}
